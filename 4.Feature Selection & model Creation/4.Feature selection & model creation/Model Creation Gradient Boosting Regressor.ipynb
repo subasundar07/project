{
 "cells": [
  {
   "cell_type": "code",
   "execution_count": 1,
   "id": "503d90f4",
   "metadata": {},
   "outputs": [],
   "source": [
    "#import liberies \n",
    "import pandas as pd\n",
    "import numpy as np\n",
    "import xgboost as xgb\n"
   ]
  },
  {
   "cell_type": "code",
   "execution_count": 2,
   "id": "32475d2d",
   "metadata": {},
   "outputs": [
    {
     "data": {
      "text/html": [
       "<div>\n",
       "<style scoped>\n",
       "    .dataframe tbody tr th:only-of-type {\n",
       "        vertical-align: middle;\n",
       "    }\n",
       "\n",
       "    .dataframe tbody tr th {\n",
       "        vertical-align: top;\n",
       "    }\n",
       "\n",
       "    .dataframe thead th {\n",
       "        text-align: right;\n",
       "    }\n",
       "</style>\n",
       "<table border=\"1\" class=\"dataframe\">\n",
       "  <thead>\n",
       "    <tr style=\"text-align: right;\">\n",
       "      <th></th>\n",
       "      <th>DateTime</th>\n",
       "      <th>Junction</th>\n",
       "      <th>Vehicles</th>\n",
       "      <th>ID</th>\n",
       "    </tr>\n",
       "  </thead>\n",
       "  <tbody>\n",
       "    <tr>\n",
       "      <th>0</th>\n",
       "      <td>2015-11-01 00:00:00</td>\n",
       "      <td>1</td>\n",
       "      <td>15</td>\n",
       "      <td>20151101001</td>\n",
       "    </tr>\n",
       "    <tr>\n",
       "      <th>1</th>\n",
       "      <td>2015-11-01 01:00:00</td>\n",
       "      <td>1</td>\n",
       "      <td>13</td>\n",
       "      <td>20151101011</td>\n",
       "    </tr>\n",
       "    <tr>\n",
       "      <th>2</th>\n",
       "      <td>2015-11-01 02:00:00</td>\n",
       "      <td>1</td>\n",
       "      <td>10</td>\n",
       "      <td>20151101021</td>\n",
       "    </tr>\n",
       "    <tr>\n",
       "      <th>3</th>\n",
       "      <td>2015-11-01 03:00:00</td>\n",
       "      <td>1</td>\n",
       "      <td>7</td>\n",
       "      <td>20151101031</td>\n",
       "    </tr>\n",
       "    <tr>\n",
       "      <th>4</th>\n",
       "      <td>2015-11-01 04:00:00</td>\n",
       "      <td>1</td>\n",
       "      <td>9</td>\n",
       "      <td>20151101041</td>\n",
       "    </tr>\n",
       "    <tr>\n",
       "      <th>...</th>\n",
       "      <td>...</td>\n",
       "      <td>...</td>\n",
       "      <td>...</td>\n",
       "      <td>...</td>\n",
       "    </tr>\n",
       "    <tr>\n",
       "      <th>48115</th>\n",
       "      <td>2017-06-30 19:00:00</td>\n",
       "      <td>4</td>\n",
       "      <td>11</td>\n",
       "      <td>20170630194</td>\n",
       "    </tr>\n",
       "    <tr>\n",
       "      <th>48116</th>\n",
       "      <td>2017-06-30 20:00:00</td>\n",
       "      <td>4</td>\n",
       "      <td>30</td>\n",
       "      <td>20170630204</td>\n",
       "    </tr>\n",
       "    <tr>\n",
       "      <th>48117</th>\n",
       "      <td>2017-06-30 21:00:00</td>\n",
       "      <td>4</td>\n",
       "      <td>16</td>\n",
       "      <td>20170630214</td>\n",
       "    </tr>\n",
       "    <tr>\n",
       "      <th>48118</th>\n",
       "      <td>2017-06-30 22:00:00</td>\n",
       "      <td>4</td>\n",
       "      <td>22</td>\n",
       "      <td>20170630224</td>\n",
       "    </tr>\n",
       "    <tr>\n",
       "      <th>48119</th>\n",
       "      <td>2017-06-30 23:00:00</td>\n",
       "      <td>4</td>\n",
       "      <td>12</td>\n",
       "      <td>20170630234</td>\n",
       "    </tr>\n",
       "  </tbody>\n",
       "</table>\n",
       "<p>48120 rows × 4 columns</p>\n",
       "</div>"
      ],
      "text/plain": [
       "                  DateTime  Junction  Vehicles           ID\n",
       "0      2015-11-01 00:00:00         1        15  20151101001\n",
       "1      2015-11-01 01:00:00         1        13  20151101011\n",
       "2      2015-11-01 02:00:00         1        10  20151101021\n",
       "3      2015-11-01 03:00:00         1         7  20151101031\n",
       "4      2015-11-01 04:00:00         1         9  20151101041\n",
       "...                    ...       ...       ...          ...\n",
       "48115  2017-06-30 19:00:00         4        11  20170630194\n",
       "48116  2017-06-30 20:00:00         4        30  20170630204\n",
       "48117  2017-06-30 21:00:00         4        16  20170630214\n",
       "48118  2017-06-30 22:00:00         4        22  20170630224\n",
       "48119  2017-06-30 23:00:00         4        12  20170630234\n",
       "\n",
       "[48120 rows x 4 columns]"
      ]
     },
     "execution_count": 2,
     "metadata": {},
     "output_type": "execute_result"
    }
   ],
   "source": [
    "#data collection\n",
    "dataset=pd.read_csv(\"Traffic.csv\")\n",
    "dataset"
   ]
  },
  {
   "cell_type": "code",
   "execution_count": 3,
   "id": "512063bb",
   "metadata": {},
   "outputs": [],
   "source": [
    "dataset.columns = dataset.columns.str.strip()"
   ]
  },
  {
   "cell_type": "code",
   "execution_count": 4,
   "id": "0d446183",
   "metadata": {},
   "outputs": [],
   "source": [
    "#Feature Selction\n",
    "\n",
    "dataset ['DateTime'] = pd.to_datetime(dataset ['DateTime'])\n",
    "dataset['Hour'] = dataset['DateTime'].dt.hour\n",
    "dataset['Day'] = dataset['DateTime'].dt.day\n",
    "dataset['Weekday'] = dataset['DateTime'].dt.weekday\n",
    "dataset['Month'] = dataset['DateTime'].dt.month\n",
    "dataset['Year'] = dataset['DateTime'].dt.year\n",
    "\n",
    "\n"
   ]
  },
  {
   "cell_type": "code",
   "execution_count": 5,
   "id": "3d075e52",
   "metadata": {},
   "outputs": [],
   "source": [
    "# Drop unneeded columns\n",
    "dataset = dataset.drop(columns=['DateTime', 'ID'])"
   ]
  },
  {
   "cell_type": "code",
   "execution_count": 6,
   "id": "9bafc27d",
   "metadata": {},
   "outputs": [
    {
     "data": {
      "text/plain": [
       "Index(['Junction', 'Vehicles', 'Hour', 'Day', 'Weekday', 'Month', 'Year'], dtype='object')"
      ]
     },
     "execution_count": 6,
     "metadata": {},
     "output_type": "execute_result"
    }
   ],
   "source": [
    "dataset.columns"
   ]
  },
  {
   "cell_type": "code",
   "execution_count": 7,
   "id": "fa82ed37",
   "metadata": {},
   "outputs": [],
   "source": [
    "independent=dataset.drop(columns='Vehicles')\n",
    "dependent=dataset['Vehicles']\n"
   ]
  },
  {
   "cell_type": "code",
   "execution_count": 8,
   "id": "1ef4ab5a",
   "metadata": {},
   "outputs": [],
   "source": [
    "#split train and test deta\n",
    "from sklearn.model_selection import train_test_split\n",
    "X_train, X_test, y_train, y_test = train_test_split(independent,dependent, test_size=0.2, random_state=42)\n",
    "\n"
   ]
  },
  {
   "cell_type": "code",
   "execution_count": 9,
   "id": "55ed1b29",
   "metadata": {},
   "outputs": [
    {
     "name": "stdout",
     "output_type": "stream",
     "text": [
      "['Junction', 'Hour', 'Day', 'Weekday', 'Month', 'Year']\n"
     ]
    }
   ],
   "source": [
    "print(X_train.columns.tolist())\n"
   ]
  },
  {
   "cell_type": "code",
   "execution_count": 11,
   "id": "ca5d6717",
   "metadata": {},
   "outputs": [
    {
     "data": {
      "text/plain": [
       "GradientBoostingRegressor(alpha=0.9, criterion='friedman_mse', init=None,\n",
       "                          learning_rate=0.1, loss='ls', max_depth=5,\n",
       "                          max_features=None, max_leaf_nodes=None,\n",
       "                          min_impurity_decrease=0.0, min_impurity_split=None,\n",
       "                          min_samples_leaf=1, min_samples_split=2,\n",
       "                          min_weight_fraction_leaf=0.0, n_estimators=100,\n",
       "                          n_iter_no_change=None, presort='auto',\n",
       "                          random_state=42, subsample=1.0, tol=0.0001,\n",
       "                          validation_fraction=0.1, verbose=0, warm_start=False)"
      ]
     },
     "execution_count": 11,
     "metadata": {},
     "output_type": "execute_result"
    }
   ],
   "source": [
    "#Model Creation\n",
    "from sklearn.ensemble import GradientBoostingRegressor\n",
    "gb_regressor = GradientBoostingRegressor(n_estimators=100, learning_rate=0.1, max_depth=5, random_state=42)\n",
    "gb_regressor.fit(X_train, y_train)"
   ]
  },
  {
   "cell_type": "code",
   "execution_count": 12,
   "id": "dcf7edc4",
   "metadata": {},
   "outputs": [
    {
     "data": {
      "text/plain": [
       "0.9259402569208146"
      ]
     },
     "execution_count": 12,
     "metadata": {},
     "output_type": "execute_result"
    }
   ],
   "source": [
    "#evaluate the model\n",
    "Y_pred=gb_regressor.predict(X_test)\n",
    "from sklearn.metrics import r2_score\n",
    "r_score=r2_score(Y_pred , y_test)\n",
    "r_score"
   ]
  },
  {
   "cell_type": "code",
   "execution_count": null,
   "id": "82a46917",
   "metadata": {},
   "outputs": [],
   "source": []
  }
 ],
 "metadata": {
  "kernelspec": {
   "display_name": "Python 3 (ipykernel)",
   "language": "python",
   "name": "python3"
  },
  "language_info": {
   "codemirror_mode": {
    "name": "ipython",
    "version": 3
   },
   "file_extension": ".py",
   "mimetype": "text/x-python",
   "name": "python",
   "nbconvert_exporter": "python",
   "pygments_lexer": "ipython3",
   "version": "3.7.1"
  }
 },
 "nbformat": 4,
 "nbformat_minor": 5
}
